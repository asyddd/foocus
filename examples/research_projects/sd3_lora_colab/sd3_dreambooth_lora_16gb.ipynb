{
  "cells": [
    {
      "cell_type": "markdown",
      "metadata": {
        "id": "a6xLZDgOajbd"
      },
      "source": [
        "# Running Stable Diffusion 3 (SD3) DreamBooth LoRA training under 16GB GPU VRAM"
      ]
    },
    {
      "cell_type": "markdown",
      "metadata": {
        "id": "0jPZpMTwafua"
      },
      "source": [
        "## Install Dependencies"
      ]
    },
    {
      "cell_type": "code",
      "execution_count": null,
      "metadata": {
        "colab": {
          "base_uri": "https://localhost:8080/"
        },
        "id": "lIYdn1woOS1n",
        "outputId": "c3161e07-33de-49e5-ae59-ca7626e101ea"
      },
      "outputs": [
        {
          "output_type": "stream",
          "name": "stdout",
          "text": [
            "  Installing build dependencies ... \u001b[?25l\u001b[?25hdone\n",
            "  Getting requirements to build wheel ... \u001b[?25l\u001b[?25hdone\n",
            "  Preparing metadata (pyproject.toml) ... \u001b[?25l\u001b[?25hdone\n",
            "  Building wheel for diffusers (pyproject.toml) ... \u001b[?25l\u001b[?25hdone\n",
            "\u001b[2K     \u001b[90m━━━━━━━━━━━━━━━━━━━━━━━━━━━━━━━━━━━━━━━━\u001b[0m \u001b[32m40.2/40.2 kB\u001b[0m \u001b[31m2.6 MB/s\u001b[0m eta \u001b[36m0:00:00\u001b[0m\n",
            "\u001b[2K   \u001b[90m━━━━━━━━━━━━━━━━━━━━━━━━━━━━━━━━━━━━━━━━\u001b[0m \u001b[32m10.5/10.5 MB\u001b[0m \u001b[31m112.9 MB/s\u001b[0m eta \u001b[36m0:00:00\u001b[0m\n",
            "\u001b[2K   \u001b[90m━━━━━━━━━━━━━━━━━━━━━━━━━━━━━━━━━━━━━━━━\u001b[0m \u001b[32m362.1/362.1 kB\u001b[0m \u001b[31m33.1 MB/s\u001b[0m eta \u001b[36m0:00:00\u001b[0m\n",
            "\u001b[2K   \u001b[90m━━━━━━━━━━━━━━━━━━━━━━━━━━━━━━━━━━━━━━━━\u001b[0m \u001b[32m76.1/76.1 MB\u001b[0m \u001b[31m13.2 MB/s\u001b[0m eta \u001b[36m0:00:00\u001b[0m\n",
            "\u001b[2K   \u001b[91m━━━━━━━━━━━━━━━━━━━━━━━━━━━━━━━━━━━━━━\u001b[0m\u001b[91m╸\u001b[0m \u001b[32m363.4/363.4 MB\u001b[0m \u001b[31m170.7 MB/s\u001b[0m eta \u001b[36m0:00:01\u001b[0m"
          ]
        }
      ],
      "source": [
        "!pip install -q -U git+https://github.com/huggingface/diffusers\n",
        "!pip install -q -U \\\n",
        "    transformers \\\n",
        "    accelerate \\\n",
        "    wandb \\\n",
        "    bitsandbytes \\\n",
        "    peft"
      ]
    },
    {
      "cell_type": "markdown",
      "metadata": {
        "id": "5qUNciw6aov2"
      },
      "source": [
        "As SD3 is gated, before using it with diffusers you first need to go to the [Stable Diffusion 3 Medium Hugging Face page](https://huggingface.co/stabilityai/stable-diffusion-3-medium-diffusers), fill in the form and accept the gate. Once you are in, you need to log in so that your system knows you’ve accepted the gate. Use the command below to log in:"
      ]
    },
    {
      "cell_type": "code",
      "execution_count": null,
      "metadata": {
        "id": "Bpk5FleeK1NR"
      },
      "outputs": [],
      "source": [
        "!huggingface-cli login"
      ]
    },
    {
      "cell_type": "markdown",
      "metadata": {
        "id": "tcF7gl4FasJV"
      },
      "source": [
        "## Clone `diffusers`"
      ]
    },
    {
      "cell_type": "code",
      "execution_count": null,
      "metadata": {
        "id": "QgSOJYglJKiM"
      },
      "outputs": [],
      "source": [
        "!git clone https://github.com/huggingface/diffusers\n",
        "%cd diffusers/examples/research_projects/sd3_lora_colab"
      ]
    },
    {
      "cell_type": "markdown",
      "metadata": {
        "id": "X9dBawr6ayRY"
      },
      "source": [
        "## Download instance data images"
      ]
    },
    {
      "cell_type": "code",
      "execution_count": null,
      "metadata": {
        "id": "La1rBYWFNjEP"
      },
      "outputs": [],
      "source": [
        "from huggingface_hub import snapshot_download\n",
        "\n",
        "local_dir = \"./dog\"\n",
        "snapshot_download(\n",
        "    \"diffusers/dog-example\",\n",
        "    local_dir=local_dir, repo_type=\"dataset\",\n",
        "    ignore_patterns=\".gitattributes\",\n",
        ")"
      ]
    },
    {
      "cell_type": "code",
      "execution_count": null,
      "metadata": {
        "id": "hbsIzdjbOzgi"
      },
      "outputs": [],
      "source": [
        "!rm -rf dog/.cache"
      ]
    },
    {
      "cell_type": "markdown",
      "metadata": {
        "id": "88sOTn2ga07q"
      },
      "source": [
        "## Compute embeddings\n",
        "\n",
        "Here we are using the default instance prompt \"a photo of sks dog\". But you can configure this. Refer to the `compute_embeddings.py` script for details on other supported arguments."
      ]
    },
    {
      "cell_type": "code",
      "execution_count": null,
      "metadata": {
        "id": "ha6hPLpHLM8c"
      },
      "outputs": [],
      "source": [
        "!python compute_embeddings.py"
      ]
    },
    {
      "cell_type": "markdown",
      "metadata": {
        "id": "10iMo-RUa_yv"
      },
      "source": [
        "## Clear memory"
      ]
    },
    {
      "cell_type": "code",
      "execution_count": null,
      "metadata": {
        "id": "-YltRmPgMuNa"
      },
      "outputs": [],
      "source": [
        "import torch\n",
        "import gc\n",
        "\n",
        "\n",
        "def flush():\n",
        "    torch.cuda.empty_cache()\n",
        "    gc.collect()\n",
        "\n",
        "flush()"
      ]
    },
    {
      "cell_type": "markdown",
      "metadata": {
        "id": "UO5oEtOJbBS9"
      },
      "source": [
        "## Train!"
      ]
    },
    {
      "cell_type": "code",
      "execution_count": null,
      "metadata": {
        "id": "HuJ6hdm2M4Aw"
      },
      "outputs": [],
      "source": [
        "!accelerate launch train_dreambooth_lora_sd3_miniature.py \\\n",
        "  --pretrained_model_name_or_path=\"stabilityai/stable-diffusion-3-medium-diffusers\"  \\\n",
        "  --instance_data_dir=\"dog\" \\\n",
        "  --data_df_path=\"sample_embeddings.parquet\" \\\n",
        "  --output_dir=\"trained-sd3-lora-miniature\" \\\n",
        "  --mixed_precision=\"fp16\" \\\n",
        "  --instance_prompt=\"a photo of sks dog\" \\\n",
        "  --resolution=1024 \\\n",
        "  --train_batch_size=1 \\\n",
        "  --gradient_accumulation_steps=4 --gradient_checkpointing \\\n",
        "  --use_8bit_adam \\\n",
        "  --learning_rate=1e-4 \\\n",
        "  --report_to=\"wandb\" \\\n",
        "  --lr_scheduler=\"constant\" \\\n",
        "  --lr_warmup_steps=0 \\\n",
        "  --max_train_steps=500 \\\n",
        "  --seed=\"0\""
      ]
    },
    {
      "cell_type": "markdown",
      "metadata": {
        "id": "itS-dsJ0gjy3"
      },
      "source": [
        "Training will take about an hour to complete depending on the length of your dataset."
      ]
    },
    {
      "cell_type": "markdown",
      "metadata": {
        "id": "BpOuL7S1bI6j"
      },
      "source": [
        "## Inference"
      ]
    },
    {
      "cell_type": "code",
      "execution_count": null,
      "metadata": {
        "id": "clfMv4jKfQzb"
      },
      "outputs": [],
      "source": [
        "flush()"
      ]
    },
    {
      "cell_type": "code",
      "execution_count": null,
      "metadata": {
        "id": "np03SXHkbKpG"
      },
      "outputs": [],
      "source": [
        "from diffusers import DiffusionPipeline\n",
        "import torch\n",
        "\n",
        "pipeline = DiffusionPipeline.from_pretrained(\n",
        "    \"stabilityai/stable-diffusion-3-medium-diffusers\",\n",
        "    torch_dtype=torch.float16\n",
        ")\n",
        "lora_output_path = \"trained-sd3-lora-miniature\"\n",
        "pipeline.load_lora_weights(\"trained-sd3-lora-miniature\")\n",
        "\n",
        "pipeline.enable_sequential_cpu_offload()\n",
        "\n",
        "image = pipeline(\"a photo of sks dog in a bucket\").images[0]\n",
        "image.save(\"bucket_dog.png\")"
      ]
    },
    {
      "cell_type": "markdown",
      "metadata": {
        "id": "HDfrY2opjGjD"
      },
      "source": [
        "Note that inference will be very slow in this case because we're loading and unloading individual components of the models and that introduces significant data movement overhead. Refer to [this resource](https://huggingface.co/blog/sd3#memory-optimizations-for-sd3) for more memory optimization related techniques."
      ]
    }
  ],
  "metadata": {
    "accelerator": "GPU",
    "colab": {
      "gpuType": "T4",
      "provenance": []
    },
    "kernelspec": {
      "display_name": "Python 3",
      "name": "python3"
    }
  },
  "nbformat": 4,
  "nbformat_minor": 0
}